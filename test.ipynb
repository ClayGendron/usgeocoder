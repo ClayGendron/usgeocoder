{
 "cells": [
  {
   "cell_type": "code",
   "execution_count": 1,
   "metadata": {
    "ExecuteTime": {
     "end_time": "2023-08-15T22:10:26.302193Z",
     "start_time": "2023-08-15T22:10:26.296782Z"
    }
   },
   "outputs": [],
   "source": [
    "import os\n",
    "import usgeocoder as geo\n",
    "import pandas as pd\n",
    "from pyprojroot import here\n",
    "import requests\n",
    "from datetime import date\n",
    "from time import sleep\n"
   ]
  },
  {
   "cell_type": "code",
   "execution_count": 2,
   "metadata": {},
   "outputs": [
    {
     "data": {
      "text/plain": [
       "{'Coordinates': (-70.9613897668135, 42.978869),\n",
       " 'Date': '2023-08-16',\n",
       " 'State': 'New Hampshire',\n",
       " 'County': 'Rockingham',\n",
       " 'Urban Area': 'Exeter, NH',\n",
       " 'Census Block': '2041',\n",
       " 'Census Tract': '610.01'}"
      ]
     },
     "execution_count": 2,
     "metadata": {},
     "output_type": "execute_result"
    }
   ],
   "source": [
    "geo.request_coordinates_geocode((-70.9613897668135, 42.978869))"
   ]
  },
  {
   "cell_type": "code",
   "execution_count": 2,
   "metadata": {},
   "outputs": [
    {
     "data": {
      "text/plain": [
       "['AddressLatitudeLongitude.csv',\n",
       " '.DS_Store',\n",
       " 'LICENSE',\n",
       " 'requirements.txt',\n",
       " 'usgeocoder',\n",
       " 'tests',\n",
       " 'test.py',\n",
       " 'README.md',\n",
       " 'setup.py',\n",
       " '.git',\n",
       " 'geocoder',\n",
       " 'test.ipynb']"
      ]
     },
     "execution_count": 2,
     "metadata": {},
     "output_type": "execute_result"
    }
   ],
   "source": [
    "os.listdir()"
   ]
  },
  {
   "cell_type": "code",
   "execution_count": 5,
   "metadata": {
    "ExecuteTime": {
     "end_time": "2023-08-15T22:10:13.839771Z",
     "start_time": "2023-08-15T22:10:13.831135Z"
    }
   },
   "outputs": [],
   "source": [
    "geocoder = geo.Geocoder()"
   ]
  },
  {
   "cell_type": "code",
   "execution_count": 2,
   "metadata": {},
   "outputs": [
    {
     "data": {
      "text/plain": [
       "{'Address': '156 Front St, Exeter, NH 03833',\n",
       " 'Date': '2023-08-13',\n",
       " 'Latitude': 42.97886968860952,\n",
       " 'Longitude': -70.96138976681354}"
      ]
     },
     "execution_count": 2,
     "metadata": {},
     "output_type": "execute_result"
    }
   ],
   "source": [
    "geo.request_address_geocode('156 Front St, Exeter, NH 03833')"
   ]
  },
  {
   "cell_type": "code",
   "execution_count": 5,
   "metadata": {},
   "outputs": [],
   "source": [
    "def request_reverse_geocode(latitude, longitude):\n",
    "    base_geocode_url = 'https://geocoding.geo.census.gov/geocoder/geographies/coordinates'\n",
    "    geocode_params = {\n",
    "        'benchmark': 'Public_AR_Current',\n",
    "        'format': 'json',\n",
    "        'vintage': 'Current_Current',\n",
    "        'y': latitude,\n",
    "        'x': longitude\n",
    "    }\n",
    "    today = date.today().strftime('%Y-%m-%d')\n",
    "    \n",
    "    sleep_delay = 0.1\n",
    "    timeouts = [0.5, 1, 2, 5]\n",
    "    for t in timeouts:\n",
    "        try:\n",
    "            geocode_req = requests.get(base_geocode_url, params=geocode_params, timeout=t)\n",
    "            geocode_data = geocode_req.json()\n",
    "            \n",
    "            # if the request was successful and contains the 'result' key\n",
    "            if 'result' in geocode_data:\n",
    "                geographies = geocode_data['result']['geographies']\n",
    "\n",
    "                return {\n",
    "                    'Latitude': latitude,\n",
    "                    'Longitude': longitude,\n",
    "                    'Date': today,\n",
    "                    'State': geographies['States'][0]['BASENAME'],\n",
    "                    'County': geographies['Counties'][0]['BASENAME'],\n",
    "                    'Urban Area': geographies['Urban Areas'][0]['BASENAME'],\n",
    "                    'Census Block': geographies['2020 Census Blocks'][0]['BASENAME'],\n",
    "                    'Census Tract': geographies['Census Tracts'][0]['BASENAME']\n",
    "                }\n",
    "            \n",
    "        except ValueError:\n",
    "            print(f'Decoding JSON has failed for coordinates: ({latitude}, {longitude})')\n",
    "            sleep(sleep_delay)\n",
    "            return None\n",
    "        \n",
    "        except requests.exceptions.Timeout:\n",
    "            if t == timeouts[-1]:\n",
    "                print(f'All attempts failed for coordinates: ({latitude}, {longitude})')\n",
    "                sleep(sleep_delay)\n",
    "                return None\n",
    "            \n",
    "            sleep(sleep_delay)\n",
    "            continue\n",
    "        \n",
    "        except requests.exceptions.RequestException as e:\n",
    "            # Catch any unforeseen requests-related exceptions\n",
    "            print(f'Request exception occurred for coordinates ({latitude}, {longitude}): {e}')\n",
    "            sleep(sleep_delay)\n",
    "            return None"
   ]
  },
  {
   "cell_type": "code",
   "execution_count": 25,
   "metadata": {},
   "outputs": [
    {
     "ename": "KeyError",
     "evalue": "'result'",
     "output_type": "error",
     "traceback": [
      "\u001b[0;31m---------------------------------------------------------------------------\u001b[0m",
      "\u001b[0;31mKeyError\u001b[0m                                  Traceback (most recent call last)",
      "Cell \u001b[0;32mIn[25], line 13\u001b[0m\n\u001b[1;32m     11\u001b[0m geocode_req \u001b[39m=\u001b[39m requests\u001b[39m.\u001b[39mget(base_geocode_url, params\u001b[39m=\u001b[39mgeocode_params, timeout\u001b[39m=\u001b[39m\u001b[39m1\u001b[39m)\n\u001b[1;32m     12\u001b[0m geocode_data \u001b[39m=\u001b[39m geocode_req\u001b[39m.\u001b[39mjson()\n\u001b[0;32m---> 13\u001b[0m geocode_data[\u001b[39m'\u001b[39;49m\u001b[39mresult\u001b[39;49m\u001b[39m'\u001b[39;49m][\u001b[39m'\u001b[39m\u001b[39mgeographies\u001b[39m\u001b[39m'\u001b[39m]\n",
      "\u001b[0;31mKeyError\u001b[0m: 'result'"
     ]
    }
   ],
   "source": [
    "base_geocode_url = 'https://geocoding.geo.census.gov/geocoder/geographies/coordinates'\n",
    "geocode_params = {\n",
    "    'benchmark': 'Public_AR_Current',\n",
    "    'format': 'json',\n",
    "    'vintage': 'Current_Current',\n",
    "    'y': 42.97886968860952,\n",
    "    'x': None\n",
    "}\n",
    "today = date.today().strftime('%Y-%m-%d')\n",
    "\n",
    "geocode_req = requests.get(base_geocode_url, params=geocode_params, timeout=1)\n",
    "geocode_data = geocode_req.json()\n",
    "geocode_data\n"
   ]
  },
  {
   "cell_type": "code",
   "execution_count": 26,
   "metadata": {},
   "outputs": [
    {
     "data": {
      "text/plain": [
       "{'errors': ['X coordinate cannot be empty'], 'status': '400'}"
      ]
     },
     "execution_count": 26,
     "metadata": {},
     "output_type": "execute_result"
    }
   ],
   "source": [
    "geocode_data"
   ]
  },
  {
   "cell_type": "code",
   "execution_count": 24,
   "metadata": {},
   "outputs": [
    {
     "name": "stdout",
     "output_type": "stream",
     "text": [
      "Not Found\n"
     ]
    }
   ],
   "source": [
    "if 'result' in geocode_data and len(geocode_data['result']['geographies']) == 0:\n",
    "    print('Not Found')\n",
    "else:\n",
    "    print(len(geocode_data['result']['geographies']))\n",
    "    print(geocode_data['result']['States'])"
   ]
  },
  {
   "cell_type": "code",
   "execution_count": 27,
   "metadata": {},
   "outputs": [
    {
     "data": {
      "text/plain": [
       "{'Address': '156 Front St, Exeter, NH 03833',\n",
       " 'Date': '2023-08-13',\n",
       " 'Latitude': 42.97886968860952,\n",
       " 'Longitude': -70.96138976681354}"
      ]
     },
     "execution_count": 27,
     "metadata": {},
     "output_type": "execute_result"
    }
   ],
   "source": [
    "{'Address': '156 Front St, Exeter, NH 03833',\n",
    " 'Date': '2023-08-13',\n",
    " 'Latitude': 42.97886968860952,\n",
    " 'Longitude': -70.96138976681354}"
   ]
  },
  {
   "cell_type": "code",
   "execution_count": 7,
   "metadata": {},
   "outputs": [
    {
     "ename": "KeyError",
     "evalue": "'States'",
     "output_type": "error",
     "traceback": [
      "\u001b[0;31m---------------------------------------------------------------------------\u001b[0m",
      "\u001b[0;31mKeyError\u001b[0m                                  Traceback (most recent call last)",
      "Cell \u001b[0;32mIn[7], line 1\u001b[0m\n\u001b[0;32m----> 1\u001b[0m request_reverse_geocode(\u001b[39m0\u001b[39;49m, \u001b[39m-\u001b[39;49m\u001b[39m70.96138976681354\u001b[39;49m)\n",
      "Cell \u001b[0;32mIn[5], line 27\u001b[0m, in \u001b[0;36mrequest_reverse_geocode\u001b[0;34m(latitude, longitude)\u001b[0m\n\u001b[1;32m     20\u001b[0m     \u001b[39mif\u001b[39;00m \u001b[39m'\u001b[39m\u001b[39mresult\u001b[39m\u001b[39m'\u001b[39m \u001b[39min\u001b[39;00m geocode_data:\n\u001b[1;32m     21\u001b[0m         geographies \u001b[39m=\u001b[39m geocode_data[\u001b[39m'\u001b[39m\u001b[39mresult\u001b[39m\u001b[39m'\u001b[39m][\u001b[39m'\u001b[39m\u001b[39mgeographies\u001b[39m\u001b[39m'\u001b[39m]\n\u001b[1;32m     23\u001b[0m         \u001b[39mreturn\u001b[39;00m {\n\u001b[1;32m     24\u001b[0m             \u001b[39m'\u001b[39m\u001b[39mLatitude\u001b[39m\u001b[39m'\u001b[39m: latitude,\n\u001b[1;32m     25\u001b[0m             \u001b[39m'\u001b[39m\u001b[39mLongitude\u001b[39m\u001b[39m'\u001b[39m: longitude,\n\u001b[1;32m     26\u001b[0m             \u001b[39m'\u001b[39m\u001b[39mDate\u001b[39m\u001b[39m'\u001b[39m: today,\n\u001b[0;32m---> 27\u001b[0m             \u001b[39m'\u001b[39m\u001b[39mState\u001b[39m\u001b[39m'\u001b[39m: geographies[\u001b[39m'\u001b[39;49m\u001b[39mStates\u001b[39;49m\u001b[39m'\u001b[39;49m][\u001b[39m0\u001b[39m][\u001b[39m'\u001b[39m\u001b[39mBASENAME\u001b[39m\u001b[39m'\u001b[39m],\n\u001b[1;32m     28\u001b[0m             \u001b[39m'\u001b[39m\u001b[39mCounty\u001b[39m\u001b[39m'\u001b[39m: geographies[\u001b[39m'\u001b[39m\u001b[39mCounties\u001b[39m\u001b[39m'\u001b[39m][\u001b[39m0\u001b[39m][\u001b[39m'\u001b[39m\u001b[39mBASENAME\u001b[39m\u001b[39m'\u001b[39m],\n\u001b[1;32m     29\u001b[0m             \u001b[39m'\u001b[39m\u001b[39mUrban Area\u001b[39m\u001b[39m'\u001b[39m: geographies[\u001b[39m'\u001b[39m\u001b[39mUrban Areas\u001b[39m\u001b[39m'\u001b[39m][\u001b[39m0\u001b[39m][\u001b[39m'\u001b[39m\u001b[39mBASENAME\u001b[39m\u001b[39m'\u001b[39m],\n\u001b[1;32m     30\u001b[0m             \u001b[39m'\u001b[39m\u001b[39mCensus Block\u001b[39m\u001b[39m'\u001b[39m: geographies[\u001b[39m'\u001b[39m\u001b[39m2020 Census Blocks\u001b[39m\u001b[39m'\u001b[39m][\u001b[39m0\u001b[39m][\u001b[39m'\u001b[39m\u001b[39mBASENAME\u001b[39m\u001b[39m'\u001b[39m],\n\u001b[1;32m     31\u001b[0m             \u001b[39m'\u001b[39m\u001b[39mCensus Tract\u001b[39m\u001b[39m'\u001b[39m: geographies[\u001b[39m'\u001b[39m\u001b[39mCensus Tracts\u001b[39m\u001b[39m'\u001b[39m][\u001b[39m0\u001b[39m][\u001b[39m'\u001b[39m\u001b[39mBASENAME\u001b[39m\u001b[39m'\u001b[39m]\n\u001b[1;32m     32\u001b[0m         }\n\u001b[1;32m     34\u001b[0m \u001b[39mexcept\u001b[39;00m \u001b[39mValueError\u001b[39;00m:\n\u001b[1;32m     35\u001b[0m     \u001b[39mprint\u001b[39m(\u001b[39mf\u001b[39m\u001b[39m'\u001b[39m\u001b[39mDecoding JSON has failed for coordinates: (\u001b[39m\u001b[39m{\u001b[39;00mlatitude\u001b[39m}\u001b[39;00m\u001b[39m, \u001b[39m\u001b[39m{\u001b[39;00mlongitude\u001b[39m}\u001b[39;00m\u001b[39m)\u001b[39m\u001b[39m'\u001b[39m)\n",
      "\u001b[0;31mKeyError\u001b[0m: 'States'"
     ]
    }
   ],
   "source": [
    "request_reverse_geocode(0, -70.96138976681354)"
   ]
  },
  {
   "cell_type": "code",
   "execution_count": 19,
   "metadata": {},
   "outputs": [
    {
     "data": {
      "text/plain": [
       "{'result': {'geographies': {'States': [{'STATENS': '01779794',\n",
       "     'GEOID': '33',\n",
       "     'CENTLAT': '+43.6740329',\n",
       "     'AREAWATER': 1025957652,\n",
       "     'STATE': '33',\n",
       "     'BASENAME': 'New Hampshire',\n",
       "     'STUSAB': 'NH',\n",
       "     'OID': '27490227215319',\n",
       "     'LSADC': '00',\n",
       "     'FUNCSTAT': 'A',\n",
       "     'INTPTLAT': '+43.6726907',\n",
       "     'DIVISION': '1',\n",
       "     'NAME': 'New Hampshire',\n",
       "     'REGION': '1',\n",
       "     'OBJECTID': 8,\n",
       "     'CENTLON': '-071.5738496',\n",
       "     'AREALAND': 23190125720,\n",
       "     'INTPTLON': '-071.5843145',\n",
       "     'MTFCC': 'G4000'}],\n",
       "   'County Subdivisions': [{'COUSUB': '25380',\n",
       "     'GEOID': '3301525380',\n",
       "     'CENTLAT': '+42.9901527',\n",
       "     'AREAWATER': 932043,\n",
       "     'STATE': '33',\n",
       "     'BASENAME': 'Exeter',\n",
       "     'OID': '27690308860955',\n",
       "     'LSADC': '43',\n",
       "     'FUNCSTAT': 'A',\n",
       "     'INTPTLAT': '+42.9884525',\n",
       "     'NAME': 'Exeter town',\n",
       "     'OBJECTID': 13740,\n",
       "     'CENTLON': '-070.9646435',\n",
       "     'COUSUBCC': 'T1',\n",
       "     'AREALAND': 50772396,\n",
       "     'INTPTLON': '-070.9615424',\n",
       "     'MTFCC': 'G4040',\n",
       "     'COUSUBNS': '00873595',\n",
       "     'COUNTY': '015'}],\n",
       "   'Census Designated Places': [{'NECTAPCI': 'N',\n",
       "     'GEOID': '3325300',\n",
       "     'CENTLAT': '+42.9775882',\n",
       "     'AREAWATER': 389472,\n",
       "     'STATE': '33',\n",
       "     'BASENAME': 'Exeter',\n",
       "     'OID': '28090308864097',\n",
       "     'LSADC': '57',\n",
       "     'PLACE': '25300',\n",
       "     'FUNCSTAT': 'S',\n",
       "     'INTPTLAT': '+42.9769812',\n",
       "     'NAME': 'Exeter CDP',\n",
       "     'OBJECTID': 25994,\n",
       "     'PLACECC': 'U1',\n",
       "     'CENTLON': '-070.9466829',\n",
       "     'CBSAPCI': 'N',\n",
       "     'AREALAND': 11645286,\n",
       "     'INTPTLON': '-070.9454585',\n",
       "     'PLACENS': '02378063',\n",
       "     'MTFCC': 'G4210'}],\n",
       "   'Urban Areas': [{'GEOID': '28511',\n",
       "     'CENTLAT': '+42.9847662',\n",
       "     'OID_1': '',\n",
       "     'AREAWATER': 317039,\n",
       "     'BASENAME': 'Exeter, NH',\n",
       "     'LSADC': '67',\n",
       "     'UA': '28511',\n",
       "     'FUNCSTAT': 'S',\n",
       "     'INTPTLAT': '+42.9856964',\n",
       "     'NAME': 'Exeter, NH Urban Area',\n",
       "     'OBJECTID': 2559,\n",
       "     'CENTLON': '-070.9270886',\n",
       "     'AREA': 57400708.4794904,\n",
       "     'LEN': 61834.179016488095,\n",
       "     'AREALAND': 30385804,\n",
       "     'INTPTLON': '-070.9266146',\n",
       "     'MTFCC': 'G3500'}],\n",
       "   'Counties': [{'GEOID': '33015',\n",
       "     'CENTLAT': '+42.9846035',\n",
       "     'AREAWATER': 258626550,\n",
       "     'STATE': '33',\n",
       "     'BASENAME': 'Rockingham',\n",
       "     'OID': '27590308857260',\n",
       "     'LSADC': '06',\n",
       "     'FUNCSTAT': 'A',\n",
       "     'INTPTLAT': '+42.9886636',\n",
       "     'NAME': 'Rockingham County',\n",
       "     'OBJECTID': 2602,\n",
       "     'CENTLON': '-071.0890889',\n",
       "     'COUNTYCC': 'H1',\n",
       "     'COUNTYNS': '00873181',\n",
       "     'AREALAND': 1801055121,\n",
       "     'INTPTLON': '-071.0990801',\n",
       "     'MTFCC': 'G4020',\n",
       "     'COUNTY': '015'}],\n",
       "   '2022 State Legislative Districts - Upper': [{'GEOID': '33024',\n",
       "     'CENTLAT': '+42.9888567',\n",
       "     'AREAWATER': 59908537,\n",
       "     'STATE': '33',\n",
       "     'BASENAME': 'State Senate District 24',\n",
       "     'OID': '2129031808633501',\n",
       "     'SLDU': '024',\n",
       "     'LSADC': '00',\n",
       "     'FUNCSTAT': 'N',\n",
       "     'INTPTLAT': '+42.9898969',\n",
       "     'NAME': 'State Senate District 24',\n",
       "     'OBJECTID': 1904,\n",
       "     'CENTLON': '-070.8428832',\n",
       "     'LSY': '2022',\n",
       "     'AREALAND': 250975640,\n",
       "     'INTPTLON': '-070.8435291',\n",
       "     'MTFCC': 'G5210',\n",
       "     'LDTYP': 'O'}],\n",
       "   '2022 State Legislative Districts - Lower': [{'GEOID': '33711',\n",
       "     'CENTLAT': '+42.9901772',\n",
       "     'SLDL': '711',\n",
       "     'AREAWATER': 978142,\n",
       "     'STATE': '33',\n",
       "     'BASENAME': 'State House District Rockingham 11',\n",
       "     'OID': '2139031808633595',\n",
       "     'LSADC': '00',\n",
       "     'FUNCSTAT': 'N',\n",
       "     'INTPTLAT': '+42.9884525',\n",
       "     'NAME': 'State House District Rockingham 11',\n",
       "     'OBJECTID': 2833,\n",
       "     'CENTLON': '-070.9645974',\n",
       "     'LSY': '2022',\n",
       "     'AREALAND': 50824587,\n",
       "     'INTPTLON': '-070.9615424',\n",
       "     'MTFCC': 'G5220',\n",
       "     'LDTYP': 'O'}],\n",
       "   '2020 Census Blocks': [{'SUFFIX': '',\n",
       "     'GEOID': '330150610012041',\n",
       "     'CENTLAT': '+42.9772333',\n",
       "     'BLOCK': '2041',\n",
       "     'AREAWATER': 0,\n",
       "     'STATE': '33',\n",
       "     'BASENAME': '2041',\n",
       "     'OID': '210701007686452',\n",
       "     'LSADC': 'BK',\n",
       "     'FUNCSTAT': 'S',\n",
       "     'INTPTLAT': '+42.9772333',\n",
       "     'NAME': 'Block 2041',\n",
       "     'OBJECTID': 1661483,\n",
       "     'TRACT': '061001',\n",
       "     'CENTLON': '-070.9653875',\n",
       "     'BLKGRP': '2',\n",
       "     'AREALAND': 185754,\n",
       "     'INTPTLON': '-070.9653875',\n",
       "     'MTFCC': 'G5040',\n",
       "     'LWBLKTYP': 'L',\n",
       "     'UR': 'U',\n",
       "     'COUNTY': '015'}],\n",
       "   'Census Tracts': [{'GEOID': '33015061001',\n",
       "     'CENTLAT': '+42.9987567',\n",
       "     'AREAWATER': 528856,\n",
       "     'STATE': '33',\n",
       "     'BASENAME': '610.01',\n",
       "     'OID': '20790308897061',\n",
       "     'LSADC': 'CT',\n",
       "     'FUNCSTAT': 'S',\n",
       "     'INTPTLAT': '+42.9942433',\n",
       "     'NAME': 'Census Tract 610.01',\n",
       "     'OBJECTID': 51618,\n",
       "     'TRACT': '061001',\n",
       "     'CENTLON': '-070.9783543',\n",
       "     'AREALAND': 33976128,\n",
       "     'INTPTLON': '-070.9806613',\n",
       "     'MTFCC': 'G5020',\n",
       "     'COUNTY': '015'}],\n",
       "   '118th Congressional Districts': [{'GEOID': '3301',\n",
       "     'CENTLAT': '+43.4052670',\n",
       "     'CDSESSN': '118',\n",
       "     'AREAWATER': 477696146,\n",
       "     'STATE': '33',\n",
       "     'BASENAME': '1',\n",
       "     'OID': '2119031808691802',\n",
       "     'LSADC': 'C2',\n",
       "     'FUNCSTAT': 'N',\n",
       "     'INTPTLAT': '+43.4072139',\n",
       "     'NAME': 'Congressional District 1',\n",
       "     'OBJECTID': 274,\n",
       "     'CENTLON': '-071.1896100',\n",
       "     'CD118': '01',\n",
       "     'AREALAND': 5551893958,\n",
       "     'INTPTLON': '-071.1869535',\n",
       "     'MTFCC': 'G5200'}]},\n",
       "  'input': {'vintage': {'isDefault': True,\n",
       "    'id': '4',\n",
       "    'vintageName': 'Current_Current',\n",
       "    'vintageDescription': 'Current Vintage - Current Benchmark'},\n",
       "   'location': {'x': -70.96138976681354, 'y': 42.97886968860952},\n",
       "   'benchmark': {'isDefault': True,\n",
       "    'benchmarkDescription': 'Public Address Ranges - Current Benchmark',\n",
       "    'id': '4',\n",
       "    'benchmarkName': 'Public_AR_Current'}}}}"
      ]
     },
     "execution_count": 19,
     "metadata": {},
     "output_type": "execute_result"
    }
   ],
   "source": [
    "base_geocode_url = 'https://geocoding.geo.census.gov/geocoder/geographies/coordinates'\n",
    "geocode_params = {\n",
    "        'benchmark': 'Public_AR_Current',\n",
    "        'vintage': 'Current_Current',\n",
    "        'format': 'json',\n",
    "        'y': 42.97886968860952,\n",
    "        'x': -70.96138976681354\n",
    "    }\n",
    "\n",
    "geocode_req = requests.get(base_geocode_url, params=geocode_params, timeout=5)\n",
    "geocode_data = geocode_req.json()\n",
    "geocode_data"
   ]
  },
  {
   "cell_type": "code",
   "execution_count": 29,
   "metadata": {},
   "outputs": [
    {
     "ename": "KeyError",
     "evalue": "'States'",
     "output_type": "error",
     "traceback": [
      "\u001b[0;31m---------------------------------------------------------------------------\u001b[0m",
      "\u001b[0;31mKeyError\u001b[0m                                  Traceback (most recent call last)",
      "Cell \u001b[0;32mIn[29], line 1\u001b[0m\n\u001b[0;32m----> 1\u001b[0m request_reverse_geocode(\u001b[39m-\u001b[39;49m\u001b[39m73.961452\u001b[39;49m, \u001b[39m40.714224\u001b[39;49m)\n",
      "Cell \u001b[0;32mIn[26], line 27\u001b[0m, in \u001b[0;36mrequest_reverse_geocode\u001b[0;34m(latitude, longitude)\u001b[0m\n\u001b[1;32m     20\u001b[0m     \u001b[39mif\u001b[39;00m \u001b[39m'\u001b[39m\u001b[39mresult\u001b[39m\u001b[39m'\u001b[39m \u001b[39min\u001b[39;00m geocode_data:\n\u001b[1;32m     21\u001b[0m         geographies \u001b[39m=\u001b[39m geocode_data[\u001b[39m'\u001b[39m\u001b[39mresult\u001b[39m\u001b[39m'\u001b[39m][\u001b[39m'\u001b[39m\u001b[39mgeographies\u001b[39m\u001b[39m'\u001b[39m]\n\u001b[1;32m     23\u001b[0m         \u001b[39mreturn\u001b[39;00m {\n\u001b[1;32m     24\u001b[0m             \u001b[39m'\u001b[39m\u001b[39mLatitude\u001b[39m\u001b[39m'\u001b[39m: latitude,\n\u001b[1;32m     25\u001b[0m             \u001b[39m'\u001b[39m\u001b[39mLongitude\u001b[39m\u001b[39m'\u001b[39m: longitude,\n\u001b[1;32m     26\u001b[0m             \u001b[39m'\u001b[39m\u001b[39mDate\u001b[39m\u001b[39m'\u001b[39m: today,\n\u001b[0;32m---> 27\u001b[0m             \u001b[39m'\u001b[39m\u001b[39mState\u001b[39m\u001b[39m'\u001b[39m: geographies[\u001b[39m'\u001b[39;49m\u001b[39mStates\u001b[39;49m\u001b[39m'\u001b[39;49m][\u001b[39m0\u001b[39m][\u001b[39m'\u001b[39m\u001b[39mBASENAME\u001b[39m\u001b[39m'\u001b[39m],\n\u001b[1;32m     28\u001b[0m             \u001b[39m'\u001b[39m\u001b[39mCounty\u001b[39m\u001b[39m'\u001b[39m: geographies[\u001b[39m'\u001b[39m\u001b[39mCounties\u001b[39m\u001b[39m'\u001b[39m][\u001b[39m0\u001b[39m][\u001b[39m'\u001b[39m\u001b[39mBASENAME\u001b[39m\u001b[39m'\u001b[39m],\n\u001b[1;32m     29\u001b[0m             \u001b[39m'\u001b[39m\u001b[39mCounty Subdivision\u001b[39m\u001b[39m'\u001b[39m: geographies[\u001b[39m'\u001b[39m\u001b[39mCounty Subdivisions\u001b[39m\u001b[39m'\u001b[39m][\u001b[39m0\u001b[39m][\u001b[39m'\u001b[39m\u001b[39mBASENAME\u001b[39m\u001b[39m'\u001b[39m],\n\u001b[1;32m     30\u001b[0m             \u001b[39m'\u001b[39m\u001b[39mUrban Area\u001b[39m\u001b[39m'\u001b[39m: geographies[\u001b[39m'\u001b[39m\u001b[39mUrban Areas\u001b[39m\u001b[39m'\u001b[39m][\u001b[39m0\u001b[39m][\u001b[39m'\u001b[39m\u001b[39mBASENAME\u001b[39m\u001b[39m'\u001b[39m],\n\u001b[1;32m     31\u001b[0m             \u001b[39m'\u001b[39m\u001b[39mState Legislative District Upper\u001b[39m\u001b[39m'\u001b[39m: geographies[\u001b[39m'\u001b[39m\u001b[39m2022 State Legislative Districts - Upper\u001b[39m\u001b[39m'\u001b[39m][\u001b[39m0\u001b[39m][\u001b[39m'\u001b[39m\u001b[39mBASENAME\u001b[39m\u001b[39m'\u001b[39m],\n\u001b[1;32m     32\u001b[0m             \u001b[39m'\u001b[39m\u001b[39mState Legislative District Lower\u001b[39m\u001b[39m'\u001b[39m: geographies[\u001b[39m'\u001b[39m\u001b[39m2022 State Legislative Districts - Lower\u001b[39m\u001b[39m'\u001b[39m][\u001b[39m0\u001b[39m][\u001b[39m'\u001b[39m\u001b[39mBASENAME\u001b[39m\u001b[39m'\u001b[39m],\n\u001b[1;32m     33\u001b[0m             \u001b[39m'\u001b[39m\u001b[39mCensus Block\u001b[39m\u001b[39m'\u001b[39m: geographies[\u001b[39m'\u001b[39m\u001b[39m2020 Census Blocks\u001b[39m\u001b[39m'\u001b[39m][\u001b[39m0\u001b[39m][\u001b[39m'\u001b[39m\u001b[39mBASENAME\u001b[39m\u001b[39m'\u001b[39m],\n\u001b[1;32m     34\u001b[0m             \u001b[39m'\u001b[39m\u001b[39mCensus Tract\u001b[39m\u001b[39m'\u001b[39m: geographies[\u001b[39m'\u001b[39m\u001b[39mCensus Tracts\u001b[39m\u001b[39m'\u001b[39m][\u001b[39m0\u001b[39m][\u001b[39m'\u001b[39m\u001b[39mBASENAME\u001b[39m\u001b[39m'\u001b[39m],\n\u001b[1;32m     35\u001b[0m             \u001b[39m'\u001b[39m\u001b[39mCongressional District\u001b[39m\u001b[39m'\u001b[39m: geographies[\u001b[39m'\u001b[39m\u001b[39m118th Congressional Districts\u001b[39m\u001b[39m'\u001b[39m][\u001b[39m0\u001b[39m][\u001b[39m'\u001b[39m\u001b[39mBASENAME\u001b[39m\u001b[39m'\u001b[39m]\n\u001b[1;32m     36\u001b[0m         }\n\u001b[1;32m     38\u001b[0m \u001b[39mexcept\u001b[39;00m \u001b[39mValueError\u001b[39;00m:\n\u001b[1;32m     39\u001b[0m     \u001b[39mprint\u001b[39m(\u001b[39mf\u001b[39m\u001b[39m'\u001b[39m\u001b[39mDecoding JSON has failed for coordinates: (\u001b[39m\u001b[39m{\u001b[39;00mlatitude\u001b[39m}\u001b[39;00m\u001b[39m, \u001b[39m\u001b[39m{\u001b[39;00mlongitude\u001b[39m}\u001b[39;00m\u001b[39m)\u001b[39m\u001b[39m'\u001b[39m)\n",
      "\u001b[0;31mKeyError\u001b[0m: 'States'"
     ]
    }
   ],
   "source": [
    "request_reverse_geocode(-73.961452, 40.714224)"
   ]
  },
  {
   "cell_type": "code",
   "execution_count": 17,
   "metadata": {},
   "outputs": [
    {
     "data": {
      "text/plain": [
       "'2023-08-13'"
      ]
     },
     "execution_count": 17,
     "metadata": {},
     "output_type": "execute_result"
    }
   ],
   "source": [
    "# get today's date\n",
    "today = dt.date.today().strftime('%Y-%m-%d')\n",
    "today"
   ]
  },
  {
   "cell_type": "code",
   "execution_count": 8,
   "metadata": {},
   "outputs": [
    {
     "data": {
      "text/plain": [
       "'/Users/claygendron/Git/Git-Desktop/usgeocoder/test.ipynb'"
      ]
     },
     "execution_count": 8,
     "metadata": {},
     "output_type": "execute_result"
    }
   ],
   "source": [
    "str(here()) + '/test.ipynb'"
   ]
  },
  {
   "cell_type": "code",
   "execution_count": 15,
   "metadata": {},
   "outputs": [],
   "source": [
    "# convert today to datetime\n",
    "today = dt.datetime.today()"
   ]
  },
  {
   "cell_type": "code",
   "execution_count": 16,
   "metadata": {},
   "outputs": [
    {
     "data": {
      "text/plain": [
       "datetime.datetime(2023, 8, 13, 16, 9, 44, 239248)"
      ]
     },
     "execution_count": 16,
     "metadata": {},
     "output_type": "execute_result"
    }
   ],
   "source": [
    "today"
   ]
  },
  {
   "cell_type": "code",
   "execution_count": 7,
   "metadata": {},
   "outputs": [],
   "source": [
    "import pandas as pd\n",
    "import numpy as np\n",
    "import requests\n",
    "from pyprojroot import here\n",
    "from concurrent.futures import ThreadPoolExecutor\n",
    "\n",
    "from time import sleep\n",
    "\n",
    "def request_address_geocode(address):\n",
    "    sleep_delay = 0.1\n",
    "    base_geocode_url = 'https://geocoding.geo.census.gov/geocoder/locations/onelineaddress'\n",
    "    geocode_params = {'benchmark': 'Public_AR_Current', 'format': 'json', 'address': address}\n",
    "    \n",
    "    timeouts = [0.5, 1, 2, 5]\n",
    "    for t in timeouts:\n",
    "        try:\n",
    "            geocode_req = requests.get(base_geocode_url, params = geocode_params, timeout = t)\n",
    "            geocode_data = geocode_req.json()\n",
    "            \n",
    "            # If the request was successful but didn't match an address, stop trying and return\n",
    "            if 'result' in geocode_data and not geocode_data['result']['addressMatches']:\n",
    "                print(f'Address {address} did not match any records.')\n",
    "                sleep(sleep_delay)\n",
    "                return None\n",
    "            \n",
    "            # Check if the 'result' key is in the geocode_data dictionary\n",
    "            if 'result' in geocode_data and geocode_data['result']['addressMatches']:\n",
    "                coordinates = geocode_data['result']['addressMatches'][0]['coordinates']\n",
    "                census_latitude = coordinates['y']\n",
    "                census_longitude = coordinates['x']\n",
    "                \n",
    "                sleep(sleep_delay)\n",
    "                return {'Address': address, 'Latitude': census_latitude, 'Longitude': census_longitude}\n",
    "\n",
    "        except ValueError:\n",
    "            print('Decoding JSON has failed for address: ' + address)\n",
    "            sleep(sleep_delay)\n",
    "            return None\n",
    "        \n",
    "        except requests.exceptions.Timeout:\n",
    "            if t == timeouts[-1]:\n",
    "                print(f'All attempts failed for address: {address}')\n",
    "                sleep(sleep_delay)\n",
    "            continue\n",
    "        \n",
    "        except requests.exceptions.RequestException as e:\n",
    "            # Catch any unforeseen requests-related exceptions\n",
    "            print(f'Request exception occurred for address {address}: {e}')\n",
    "            sleep(sleep_delay)\n",
    "            return None\n",
    "\n"
   ]
  },
  {
   "cell_type": "code",
   "execution_count": 8,
   "metadata": {},
   "outputs": [
    {
     "name": "stdout",
     "output_type": "stream",
     "text": [
      "Address 156 Front St did not match any records.\n"
     ]
    }
   ],
   "source": [
    "address = '156 Front St'\n",
    "request_address_geocode(address)"
   ]
  },
  {
   "cell_type": "code",
   "execution_count": 9,
   "metadata": {},
   "outputs": [],
   "source": [
    "addresses_df = pd.read_csv(here('AddressLatitudeLongitude.csv'))"
   ]
  },
  {
   "cell_type": "code",
   "execution_count": 14,
   "metadata": {},
   "outputs": [],
   "source": [
    "test_100_df = addresses_df.head(10)\n",
    "test_1000_df = addresses_df.head(1000)"
   ]
  },
  {
   "cell_type": "code",
   "execution_count": 15,
   "metadata": {},
   "outputs": [],
   "source": [
    "addresses = test_1000_df['Address'].tolist()\n",
    "addresses = set(addresses)"
   ]
  },
  {
   "cell_type": "code",
   "execution_count": 16,
   "metadata": {},
   "outputs": [],
   "source": [
    "def batch_geocoder(addresses, n_threads = 100):\n",
    "    if n_threads > 100:\n",
    "        # show warning that the max number of threads is 100\n",
    "        print('WARNING: n_threads is set very high and you may experience rate limits.')\n",
    "        print('Would you like to set n_threads to the recomended max of 100? (y/n)')\n",
    "        response = input()\n",
    "        if response == 'y':\n",
    "            n_threads = 100\n",
    "        else:\n",
    "            print('If this process fails, try reducing n_threads to 100 or less.')\n",
    "        \n",
    "        \n",
    "    addresses = set(addresses)\n",
    "    result_df = pd.DataFrame(columns = ['Address', 'Latitude', 'Longitude'])\n",
    "    with ThreadPoolExecutor(max_workers = n_threads) as executor:\n",
    "        for result in executor.map(request_address_geocode, addresses):\n",
    "            if result is not None:\n",
    "                result_df = pd.concat([result_df, pd.DataFrame([result])], ignore_index = True)\n",
    "\n",
    "    return result_df"
   ]
  },
  {
   "cell_type": "code",
   "execution_count": 17,
   "metadata": {},
   "outputs": [],
   "source": [
    "result_df = geo.batch_geocoder(addresses)"
   ]
  },
  {
   "cell_type": "code",
   "execution_count": 64,
   "metadata": {},
   "outputs": [
    {
     "data": {
      "text/html": [
       "<div>\n",
       "<style scoped>\n",
       "    .dataframe tbody tr th:only-of-type {\n",
       "        vertical-align: middle;\n",
       "    }\n",
       "\n",
       "    .dataframe tbody tr th {\n",
       "        vertical-align: top;\n",
       "    }\n",
       "\n",
       "    .dataframe thead th {\n",
       "        text-align: right;\n",
       "    }\n",
       "</style>\n",
       "<table border=\"1\" class=\"dataframe\">\n",
       "  <thead>\n",
       "    <tr style=\"text-align: right;\">\n",
       "      <th></th>\n",
       "      <th>Address</th>\n",
       "      <th>Latitude</th>\n",
       "      <th>Longitude</th>\n",
       "    </tr>\n",
       "  </thead>\n",
       "  <tbody>\n",
       "    <tr>\n",
       "      <th>0</th>\n",
       "      <td>600 Westford St, Lowell, MA 01851</td>\n",
       "      <td>42.633689</td>\n",
       "      <td>-71.337486</td>\n",
       "    </tr>\n",
       "    <tr>\n",
       "      <th>1</th>\n",
       "      <td>40 Countryside Ln, Pelham, NH 03076</td>\n",
       "      <td>42.768863</td>\n",
       "      <td>-71.364502</td>\n",
       "    </tr>\n",
       "    <tr>\n",
       "      <th>2</th>\n",
       "      <td>410 Greenlodge St, Dedham, MA 02026</td>\n",
       "      <td>42.218242</td>\n",
       "      <td>-71.154284</td>\n",
       "    </tr>\n",
       "    <tr>\n",
       "      <th>3</th>\n",
       "      <td>118 Jennison Rd, Milford, NH 03055</td>\n",
       "      <td>42.856435</td>\n",
       "      <td>-71.673721</td>\n",
       "    </tr>\n",
       "    <tr>\n",
       "      <th>4</th>\n",
       "      <td>3 Holly Ct, Exeter, NH 03833</td>\n",
       "      <td>42.977324</td>\n",
       "      <td>-70.933516</td>\n",
       "    </tr>\n",
       "    <tr>\n",
       "      <th>5</th>\n",
       "      <td>11 Dyer Ave, Salem, NH 03079</td>\n",
       "      <td>42.793265</td>\n",
       "      <td>-71.233420</td>\n",
       "    </tr>\n",
       "    <tr>\n",
       "      <th>6</th>\n",
       "      <td>10 Downing St, Laconia, NH 03246</td>\n",
       "      <td>43.534150</td>\n",
       "      <td>-71.483670</td>\n",
       "    </tr>\n",
       "    <tr>\n",
       "      <th>7</th>\n",
       "      <td>114 Ashley Dr, Manchester, NH 03103</td>\n",
       "      <td>42.952850</td>\n",
       "      <td>-71.417385</td>\n",
       "    </tr>\n",
       "    <tr>\n",
       "      <th>8</th>\n",
       "      <td>12698 W 84th Dr, Arvada, CO 80005</td>\n",
       "      <td>39.851634</td>\n",
       "      <td>-105.142778</td>\n",
       "    </tr>\n",
       "    <tr>\n",
       "      <th>9</th>\n",
       "      <td>170 Annand Dr, Milford, NH 03055</td>\n",
       "      <td>42.799873</td>\n",
       "      <td>-71.667777</td>\n",
       "    </tr>\n",
       "  </tbody>\n",
       "</table>\n",
       "</div>"
      ],
      "text/plain": [
       "                               Address   Latitude   Longitude\n",
       "0    600 Westford St, Lowell, MA 01851  42.633689  -71.337486\n",
       "1  40 Countryside Ln, Pelham, NH 03076  42.768863  -71.364502\n",
       "2  410 Greenlodge St, Dedham, MA 02026  42.218242  -71.154284\n",
       "3   118 Jennison Rd, Milford, NH 03055  42.856435  -71.673721\n",
       "4         3 Holly Ct, Exeter, NH 03833  42.977324  -70.933516\n",
       "5         11 Dyer Ave, Salem, NH 03079  42.793265  -71.233420\n",
       "6     10 Downing St, Laconia, NH 03246  43.534150  -71.483670\n",
       "7  114 Ashley Dr, Manchester, NH 03103  42.952850  -71.417385\n",
       "8    12698 W 84th Dr, Arvada, CO 80005  39.851634 -105.142778\n",
       "9     170 Annand Dr, Milford, NH 03055  42.799873  -71.667777"
      ]
     },
     "execution_count": 64,
     "metadata": {},
     "output_type": "execute_result"
    }
   ],
   "source": [
    "result_df = pd.DataFrame(columns = ['Address', 'Latitude', 'Longitude'])\n",
    "\n",
    "# Use ThreadPoolExecutor to run multiple requests in parallel\n",
    "with ThreadPoolExecutor(max_workers = 100) as executor:\n",
    "    for result in executor.map(request_address_geocode, addresses):\n",
    "        if result is not None:\n",
    "            result_df = pd.concat([result_df, pd.DataFrame([result])], ignore_index = True)\n",
    "\n",
    "# Save result to CSV\n",
    "result_df"
   ]
  },
  {
   "cell_type": "code",
   "execution_count": 6,
   "metadata": {},
   "outputs": [],
   "source": [
    "def get_geocode(address):\n",
    "    base_geocode_url = 'https://geocoding.geo.census.gov/geocoder/locations/onelineaddress'\n",
    "    geocode_params = {'benchmark': 'Public_AR_Current', 'format': 'json', 'address': address}\n",
    "    geocode_req = requests.get(base_geocode_url, params = geocode_params)\n",
    "\n",
    "    try:\n",
    "        geocode_data = geocode_req.json()\n",
    "    except ValueError:  # includes simplejson.decoder.JSONDecodeError\n",
    "        print('Decoding JSON has failed for address: ' + address)\n",
    "        return None\n",
    "\n",
    "    # Check if the 'result' key is in the geocode_data dictionary\n",
    "    if 'result' in geocode_data and geocode_data['result']['addressMatches']:\n",
    "        # Get coordinates from Geocoding API response\n",
    "        coordinates = geocode_data['result']['addressMatches'][0]['coordinates']\n",
    "\n",
    "        # Request to FCC Census Block API\n",
    "        census_params = {'latitude': coordinates['y'], 'longitude': coordinates['x'], 'format': 'json'}\n",
    "\n",
    "        # Get Census Tract from FCC API response\n",
    "        census_latitude = census_params['latitude']\n",
    "        census_longitude = census_params['longitude']\n",
    "\n",
    "        return {'Address': address, 'Latitude': census_latitude, 'Longitude': census_longitude}\n",
    "    else:\n",
    "        return None\n",
    "    "
   ]
  },
  {
   "cell_type": "code",
   "execution_count": 7,
   "metadata": {},
   "outputs": [
    {
     "ename": "KeyboardInterrupt",
     "evalue": "",
     "output_type": "error",
     "traceback": [
      "\u001b[0;31m---------------------------------------------------------------------------\u001b[0m",
      "\u001b[0;31mKeyboardInterrupt\u001b[0m                         Traceback (most recent call last)",
      "Cell \u001b[0;32mIn[7], line 2\u001b[0m\n\u001b[1;32m      1\u001b[0m address \u001b[39m=\u001b[39m \u001b[39m'\u001b[39m\u001b[39m156 Front St, Exeter, NH 03833\u001b[39m\u001b[39m'\u001b[39m\n\u001b[0;32m----> 2\u001b[0m get_geocode(address)\n",
      "Cell \u001b[0;32mIn[6], line 4\u001b[0m, in \u001b[0;36mget_geocode\u001b[0;34m(address)\u001b[0m\n\u001b[1;32m      2\u001b[0m base_geocode_url \u001b[39m=\u001b[39m \u001b[39m'\u001b[39m\u001b[39mhttps://geocoding.geo.census.gov/geocoder/locations/onelineaddress\u001b[39m\u001b[39m'\u001b[39m\n\u001b[1;32m      3\u001b[0m geocode_params \u001b[39m=\u001b[39m {\u001b[39m'\u001b[39m\u001b[39mbenchmark\u001b[39m\u001b[39m'\u001b[39m: \u001b[39m'\u001b[39m\u001b[39mPublic_AR_Current\u001b[39m\u001b[39m'\u001b[39m, \u001b[39m'\u001b[39m\u001b[39mformat\u001b[39m\u001b[39m'\u001b[39m: \u001b[39m'\u001b[39m\u001b[39mjson\u001b[39m\u001b[39m'\u001b[39m, \u001b[39m'\u001b[39m\u001b[39maddress\u001b[39m\u001b[39m'\u001b[39m: address}\n\u001b[0;32m----> 4\u001b[0m geocode_req \u001b[39m=\u001b[39m requests\u001b[39m.\u001b[39;49mget(base_geocode_url, params \u001b[39m=\u001b[39;49m geocode_params)\n\u001b[1;32m      6\u001b[0m \u001b[39mtry\u001b[39;00m:\n\u001b[1;32m      7\u001b[0m     geocode_data \u001b[39m=\u001b[39m geocode_req\u001b[39m.\u001b[39mjson()\n",
      "File \u001b[0;32m/opt/homebrew/Caskroom/miniforge/base/lib/python3.9/site-packages/requests/api.py:73\u001b[0m, in \u001b[0;36mget\u001b[0;34m(url, params, **kwargs)\u001b[0m\n\u001b[1;32m     62\u001b[0m \u001b[39mdef\u001b[39;00m \u001b[39mget\u001b[39m(url, params\u001b[39m=\u001b[39m\u001b[39mNone\u001b[39;00m, \u001b[39m*\u001b[39m\u001b[39m*\u001b[39mkwargs):\n\u001b[1;32m     63\u001b[0m \u001b[39m    \u001b[39m\u001b[39mr\u001b[39m\u001b[39m\"\"\"Sends a GET request.\u001b[39;00m\n\u001b[1;32m     64\u001b[0m \n\u001b[1;32m     65\u001b[0m \u001b[39m    :param url: URL for the new :class:`Request` object.\u001b[39;00m\n\u001b[0;32m   (...)\u001b[0m\n\u001b[1;32m     70\u001b[0m \u001b[39m    :rtype: requests.Response\u001b[39;00m\n\u001b[1;32m     71\u001b[0m \u001b[39m    \"\"\"\u001b[39;00m\n\u001b[0;32m---> 73\u001b[0m     \u001b[39mreturn\u001b[39;00m request(\u001b[39m\"\u001b[39;49m\u001b[39mget\u001b[39;49m\u001b[39m\"\u001b[39;49m, url, params\u001b[39m=\u001b[39;49mparams, \u001b[39m*\u001b[39;49m\u001b[39m*\u001b[39;49mkwargs)\n",
      "File \u001b[0;32m/opt/homebrew/Caskroom/miniforge/base/lib/python3.9/site-packages/requests/api.py:59\u001b[0m, in \u001b[0;36mrequest\u001b[0;34m(method, url, **kwargs)\u001b[0m\n\u001b[1;32m     55\u001b[0m \u001b[39m# By using the 'with' statement we are sure the session is closed, thus we\u001b[39;00m\n\u001b[1;32m     56\u001b[0m \u001b[39m# avoid leaving sockets open which can trigger a ResourceWarning in some\u001b[39;00m\n\u001b[1;32m     57\u001b[0m \u001b[39m# cases, and look like a memory leak in others.\u001b[39;00m\n\u001b[1;32m     58\u001b[0m \u001b[39mwith\u001b[39;00m sessions\u001b[39m.\u001b[39mSession() \u001b[39mas\u001b[39;00m session:\n\u001b[0;32m---> 59\u001b[0m     \u001b[39mreturn\u001b[39;00m session\u001b[39m.\u001b[39;49mrequest(method\u001b[39m=\u001b[39;49mmethod, url\u001b[39m=\u001b[39;49murl, \u001b[39m*\u001b[39;49m\u001b[39m*\u001b[39;49mkwargs)\n",
      "File \u001b[0;32m/opt/homebrew/Caskroom/miniforge/base/lib/python3.9/site-packages/requests/sessions.py:589\u001b[0m, in \u001b[0;36mSession.request\u001b[0;34m(self, method, url, params, data, headers, cookies, files, auth, timeout, allow_redirects, proxies, hooks, stream, verify, cert, json)\u001b[0m\n\u001b[1;32m    584\u001b[0m send_kwargs \u001b[39m=\u001b[39m {\n\u001b[1;32m    585\u001b[0m     \u001b[39m\"\u001b[39m\u001b[39mtimeout\u001b[39m\u001b[39m\"\u001b[39m: timeout,\n\u001b[1;32m    586\u001b[0m     \u001b[39m\"\u001b[39m\u001b[39mallow_redirects\u001b[39m\u001b[39m\"\u001b[39m: allow_redirects,\n\u001b[1;32m    587\u001b[0m }\n\u001b[1;32m    588\u001b[0m send_kwargs\u001b[39m.\u001b[39mupdate(settings)\n\u001b[0;32m--> 589\u001b[0m resp \u001b[39m=\u001b[39m \u001b[39mself\u001b[39;49m\u001b[39m.\u001b[39;49msend(prep, \u001b[39m*\u001b[39;49m\u001b[39m*\u001b[39;49msend_kwargs)\n\u001b[1;32m    591\u001b[0m \u001b[39mreturn\u001b[39;00m resp\n",
      "File \u001b[0;32m/opt/homebrew/Caskroom/miniforge/base/lib/python3.9/site-packages/requests/sessions.py:703\u001b[0m, in \u001b[0;36mSession.send\u001b[0;34m(self, request, **kwargs)\u001b[0m\n\u001b[1;32m    700\u001b[0m start \u001b[39m=\u001b[39m preferred_clock()\n\u001b[1;32m    702\u001b[0m \u001b[39m# Send the request\u001b[39;00m\n\u001b[0;32m--> 703\u001b[0m r \u001b[39m=\u001b[39m adapter\u001b[39m.\u001b[39;49msend(request, \u001b[39m*\u001b[39;49m\u001b[39m*\u001b[39;49mkwargs)\n\u001b[1;32m    705\u001b[0m \u001b[39m# Total elapsed time of the request (approximately)\u001b[39;00m\n\u001b[1;32m    706\u001b[0m elapsed \u001b[39m=\u001b[39m preferred_clock() \u001b[39m-\u001b[39m start\n",
      "File \u001b[0;32m/opt/homebrew/Caskroom/miniforge/base/lib/python3.9/site-packages/requests/adapters.py:486\u001b[0m, in \u001b[0;36mHTTPAdapter.send\u001b[0;34m(self, request, stream, timeout, verify, cert, proxies)\u001b[0m\n\u001b[1;32m    483\u001b[0m     timeout \u001b[39m=\u001b[39m TimeoutSauce(connect\u001b[39m=\u001b[39mtimeout, read\u001b[39m=\u001b[39mtimeout)\n\u001b[1;32m    485\u001b[0m \u001b[39mtry\u001b[39;00m:\n\u001b[0;32m--> 486\u001b[0m     resp \u001b[39m=\u001b[39m conn\u001b[39m.\u001b[39;49murlopen(\n\u001b[1;32m    487\u001b[0m         method\u001b[39m=\u001b[39;49mrequest\u001b[39m.\u001b[39;49mmethod,\n\u001b[1;32m    488\u001b[0m         url\u001b[39m=\u001b[39;49murl,\n\u001b[1;32m    489\u001b[0m         body\u001b[39m=\u001b[39;49mrequest\u001b[39m.\u001b[39;49mbody,\n\u001b[1;32m    490\u001b[0m         headers\u001b[39m=\u001b[39;49mrequest\u001b[39m.\u001b[39;49mheaders,\n\u001b[1;32m    491\u001b[0m         redirect\u001b[39m=\u001b[39;49m\u001b[39mFalse\u001b[39;49;00m,\n\u001b[1;32m    492\u001b[0m         assert_same_host\u001b[39m=\u001b[39;49m\u001b[39mFalse\u001b[39;49;00m,\n\u001b[1;32m    493\u001b[0m         preload_content\u001b[39m=\u001b[39;49m\u001b[39mFalse\u001b[39;49;00m,\n\u001b[1;32m    494\u001b[0m         decode_content\u001b[39m=\u001b[39;49m\u001b[39mFalse\u001b[39;49;00m,\n\u001b[1;32m    495\u001b[0m         retries\u001b[39m=\u001b[39;49m\u001b[39mself\u001b[39;49m\u001b[39m.\u001b[39;49mmax_retries,\n\u001b[1;32m    496\u001b[0m         timeout\u001b[39m=\u001b[39;49mtimeout,\n\u001b[1;32m    497\u001b[0m         chunked\u001b[39m=\u001b[39;49mchunked,\n\u001b[1;32m    498\u001b[0m     )\n\u001b[1;32m    500\u001b[0m \u001b[39mexcept\u001b[39;00m (ProtocolError, \u001b[39mOSError\u001b[39;00m) \u001b[39mas\u001b[39;00m err:\n\u001b[1;32m    501\u001b[0m     \u001b[39mraise\u001b[39;00m \u001b[39mConnectionError\u001b[39;00m(err, request\u001b[39m=\u001b[39mrequest)\n",
      "File \u001b[0;32m/opt/homebrew/Caskroom/miniforge/base/lib/python3.9/site-packages/urllib3/connectionpool.py:714\u001b[0m, in \u001b[0;36mHTTPConnectionPool.urlopen\u001b[0;34m(self, method, url, body, headers, retries, redirect, assert_same_host, timeout, pool_timeout, release_conn, chunked, body_pos, **response_kw)\u001b[0m\n\u001b[1;32m    711\u001b[0m     \u001b[39mself\u001b[39m\u001b[39m.\u001b[39m_prepare_proxy(conn)\n\u001b[1;32m    713\u001b[0m \u001b[39m# Make the request on the httplib connection object.\u001b[39;00m\n\u001b[0;32m--> 714\u001b[0m httplib_response \u001b[39m=\u001b[39m \u001b[39mself\u001b[39;49m\u001b[39m.\u001b[39;49m_make_request(\n\u001b[1;32m    715\u001b[0m     conn,\n\u001b[1;32m    716\u001b[0m     method,\n\u001b[1;32m    717\u001b[0m     url,\n\u001b[1;32m    718\u001b[0m     timeout\u001b[39m=\u001b[39;49mtimeout_obj,\n\u001b[1;32m    719\u001b[0m     body\u001b[39m=\u001b[39;49mbody,\n\u001b[1;32m    720\u001b[0m     headers\u001b[39m=\u001b[39;49mheaders,\n\u001b[1;32m    721\u001b[0m     chunked\u001b[39m=\u001b[39;49mchunked,\n\u001b[1;32m    722\u001b[0m )\n\u001b[1;32m    724\u001b[0m \u001b[39m# If we're going to release the connection in ``finally:``, then\u001b[39;00m\n\u001b[1;32m    725\u001b[0m \u001b[39m# the response doesn't need to know about the connection. Otherwise\u001b[39;00m\n\u001b[1;32m    726\u001b[0m \u001b[39m# it will also try to release it and we'll have a double-release\u001b[39;00m\n\u001b[1;32m    727\u001b[0m \u001b[39m# mess.\u001b[39;00m\n\u001b[1;32m    728\u001b[0m response_conn \u001b[39m=\u001b[39m conn \u001b[39mif\u001b[39;00m \u001b[39mnot\u001b[39;00m release_conn \u001b[39melse\u001b[39;00m \u001b[39mNone\u001b[39;00m\n",
      "File \u001b[0;32m/opt/homebrew/Caskroom/miniforge/base/lib/python3.9/site-packages/urllib3/connectionpool.py:403\u001b[0m, in \u001b[0;36mHTTPConnectionPool._make_request\u001b[0;34m(self, conn, method, url, timeout, chunked, **httplib_request_kw)\u001b[0m\n\u001b[1;32m    401\u001b[0m \u001b[39m# Trigger any extra validation we need to do.\u001b[39;00m\n\u001b[1;32m    402\u001b[0m \u001b[39mtry\u001b[39;00m:\n\u001b[0;32m--> 403\u001b[0m     \u001b[39mself\u001b[39;49m\u001b[39m.\u001b[39;49m_validate_conn(conn)\n\u001b[1;32m    404\u001b[0m \u001b[39mexcept\u001b[39;00m (SocketTimeout, BaseSSLError) \u001b[39mas\u001b[39;00m e:\n\u001b[1;32m    405\u001b[0m     \u001b[39m# Py2 raises this as a BaseSSLError, Py3 raises it as socket timeout.\u001b[39;00m\n\u001b[1;32m    406\u001b[0m     \u001b[39mself\u001b[39m\u001b[39m.\u001b[39m_raise_timeout(err\u001b[39m=\u001b[39me, url\u001b[39m=\u001b[39murl, timeout_value\u001b[39m=\u001b[39mconn\u001b[39m.\u001b[39mtimeout)\n",
      "File \u001b[0;32m/opt/homebrew/Caskroom/miniforge/base/lib/python3.9/site-packages/urllib3/connectionpool.py:1053\u001b[0m, in \u001b[0;36mHTTPSConnectionPool._validate_conn\u001b[0;34m(self, conn)\u001b[0m\n\u001b[1;32m   1051\u001b[0m \u001b[39m# Force connect early to allow us to validate the connection.\u001b[39;00m\n\u001b[1;32m   1052\u001b[0m \u001b[39mif\u001b[39;00m \u001b[39mnot\u001b[39;00m \u001b[39mgetattr\u001b[39m(conn, \u001b[39m\"\u001b[39m\u001b[39msock\u001b[39m\u001b[39m\"\u001b[39m, \u001b[39mNone\u001b[39;00m):  \u001b[39m# AppEngine might not have  `.sock`\u001b[39;00m\n\u001b[0;32m-> 1053\u001b[0m     conn\u001b[39m.\u001b[39;49mconnect()\n\u001b[1;32m   1055\u001b[0m \u001b[39mif\u001b[39;00m \u001b[39mnot\u001b[39;00m conn\u001b[39m.\u001b[39mis_verified:\n\u001b[1;32m   1056\u001b[0m     warnings\u001b[39m.\u001b[39mwarn(\n\u001b[1;32m   1057\u001b[0m         (\n\u001b[1;32m   1058\u001b[0m             \u001b[39m\"\u001b[39m\u001b[39mUnverified HTTPS request is being made to host \u001b[39m\u001b[39m'\u001b[39m\u001b[39m%s\u001b[39;00m\u001b[39m'\u001b[39m\u001b[39m. \u001b[39m\u001b[39m\"\u001b[39m\n\u001b[0;32m   (...)\u001b[0m\n\u001b[1;32m   1063\u001b[0m         InsecureRequestWarning,\n\u001b[1;32m   1064\u001b[0m     )\n",
      "File \u001b[0;32m/opt/homebrew/Caskroom/miniforge/base/lib/python3.9/site-packages/urllib3/connection.py:363\u001b[0m, in \u001b[0;36mHTTPSConnection.connect\u001b[0;34m(self)\u001b[0m\n\u001b[1;32m    361\u001b[0m \u001b[39mdef\u001b[39;00m \u001b[39mconnect\u001b[39m(\u001b[39mself\u001b[39m):\n\u001b[1;32m    362\u001b[0m     \u001b[39m# Add certificate verification\u001b[39;00m\n\u001b[0;32m--> 363\u001b[0m     \u001b[39mself\u001b[39m\u001b[39m.\u001b[39msock \u001b[39m=\u001b[39m conn \u001b[39m=\u001b[39m \u001b[39mself\u001b[39;49m\u001b[39m.\u001b[39;49m_new_conn()\n\u001b[1;32m    364\u001b[0m     hostname \u001b[39m=\u001b[39m \u001b[39mself\u001b[39m\u001b[39m.\u001b[39mhost\n\u001b[1;32m    365\u001b[0m     tls_in_tls \u001b[39m=\u001b[39m \u001b[39mFalse\u001b[39;00m\n",
      "File \u001b[0;32m/opt/homebrew/Caskroom/miniforge/base/lib/python3.9/site-packages/urllib3/connection.py:174\u001b[0m, in \u001b[0;36mHTTPConnection._new_conn\u001b[0;34m(self)\u001b[0m\n\u001b[1;32m    171\u001b[0m     extra_kw[\u001b[39m\"\u001b[39m\u001b[39msocket_options\u001b[39m\u001b[39m\"\u001b[39m] \u001b[39m=\u001b[39m \u001b[39mself\u001b[39m\u001b[39m.\u001b[39msocket_options\n\u001b[1;32m    173\u001b[0m \u001b[39mtry\u001b[39;00m:\n\u001b[0;32m--> 174\u001b[0m     conn \u001b[39m=\u001b[39m connection\u001b[39m.\u001b[39;49mcreate_connection(\n\u001b[1;32m    175\u001b[0m         (\u001b[39mself\u001b[39;49m\u001b[39m.\u001b[39;49m_dns_host, \u001b[39mself\u001b[39;49m\u001b[39m.\u001b[39;49mport), \u001b[39mself\u001b[39;49m\u001b[39m.\u001b[39;49mtimeout, \u001b[39m*\u001b[39;49m\u001b[39m*\u001b[39;49mextra_kw\n\u001b[1;32m    176\u001b[0m     )\n\u001b[1;32m    178\u001b[0m \u001b[39mexcept\u001b[39;00m SocketTimeout:\n\u001b[1;32m    179\u001b[0m     \u001b[39mraise\u001b[39;00m ConnectTimeoutError(\n\u001b[1;32m    180\u001b[0m         \u001b[39mself\u001b[39m,\n\u001b[1;32m    181\u001b[0m         \u001b[39m\"\u001b[39m\u001b[39mConnection to \u001b[39m\u001b[39m%s\u001b[39;00m\u001b[39m timed out. (connect timeout=\u001b[39m\u001b[39m%s\u001b[39;00m\u001b[39m)\u001b[39m\u001b[39m\"\u001b[39m\n\u001b[1;32m    182\u001b[0m         \u001b[39m%\u001b[39m (\u001b[39mself\u001b[39m\u001b[39m.\u001b[39mhost, \u001b[39mself\u001b[39m\u001b[39m.\u001b[39mtimeout),\n\u001b[1;32m    183\u001b[0m     )\n",
      "File \u001b[0;32m/opt/homebrew/Caskroom/miniforge/base/lib/python3.9/site-packages/urllib3/util/connection.py:85\u001b[0m, in \u001b[0;36mcreate_connection\u001b[0;34m(address, timeout, source_address, socket_options)\u001b[0m\n\u001b[1;32m     83\u001b[0m     \u001b[39mif\u001b[39;00m source_address:\n\u001b[1;32m     84\u001b[0m         sock\u001b[39m.\u001b[39mbind(source_address)\n\u001b[0;32m---> 85\u001b[0m     sock\u001b[39m.\u001b[39;49mconnect(sa)\n\u001b[1;32m     86\u001b[0m     \u001b[39mreturn\u001b[39;00m sock\n\u001b[1;32m     88\u001b[0m \u001b[39mexcept\u001b[39;00m socket\u001b[39m.\u001b[39merror \u001b[39mas\u001b[39;00m e:\n",
      "\u001b[0;31mKeyboardInterrupt\u001b[0m: "
     ]
    }
   ],
   "source": [
    "address = '156 Front St, Exeter, NH 03833'\n",
    "get_geocode(address)"
   ]
  },
  {
   "cell_type": "code",
   "execution_count": 1,
   "metadata": {},
   "outputs": [
    {
     "data": {
      "text/plain": [
       "{'Address': '156 Front St, Exeter, NH 03833',\n",
       " 'Latitude': 42.97886968860952,\n",
       " 'Longitude': -70.96138976681354}"
      ]
     },
     "execution_count": 1,
     "metadata": {},
     "output_type": "execute_result"
    }
   ],
   "source": [
    "import requests\n",
    "\n",
    "# Create a session\n",
    "session = requests.Session()\n",
    "\n",
    "def get_geocode(address):\n",
    "    base_geocode_url = 'https://geocoding.geo.census.gov/geocoder/locations/onelineaddress'\n",
    "    geocode_params = {'benchmark': 'Public_AR_Current', 'format': 'json', 'address': address}\n",
    "    \n",
    "    # Use the session object to make the request\n",
    "    geocode_req = session.get(base_geocode_url, params=geocode_params)\n",
    "\n",
    "    try:\n",
    "        geocode_data = geocode_req.json()\n",
    "    except ValueError:  # includes simplejson.decoder.JSONDecodeError\n",
    "        print('Decoding JSON has failed for address: ' + address)\n",
    "        return None\n",
    "\n",
    "    # Check if the 'result' key is in the geocode_data dictionary\n",
    "    if 'result' in geocode_data and geocode_data['result']['addressMatches']:\n",
    "        # Get coordinates from Geocoding API response\n",
    "        coordinates = geocode_data['result']['addressMatches'][0]['coordinates']\n",
    "\n",
    "        # Request to FCC Census Block API\n",
    "        census_params = {'latitude': coordinates['y'], 'longitude': coordinates['x'], 'format': 'json'}\n",
    "\n",
    "        # Get Census Tract from FCC API response\n",
    "        census_latitude = census_params['latitude']\n",
    "        census_longitude = census_params['longitude']\n",
    "\n",
    "        return {'Address': address, 'Latitude': census_latitude, 'Longitude': census_longitude}\n",
    "    else:\n",
    "        return None\n",
    "\n",
    "address = '156 Front St, Exeter, NH 03833'\n",
    "get_geocode(address)\n"
   ]
  },
  {
   "cell_type": "code",
   "execution_count": 176,
   "metadata": {},
   "outputs": [],
   "source": [
    "# create a new column of the full address\n",
    "def apply_concatenate_address(row):\n",
    "    try:\n",
    "        address_parts = [\n",
    "            str(row['Address 1']).strip() if pd.notna(row['Address 1']) else '',\n",
    "            ' ' + str(row['Address 2']).strip() if pd.notna(row['Address 2']) else '',\n",
    "            ', ' + str(row['City']).strip() if pd.notna(row['City']) else '',\n",
    "            ', ' + str(row['State']).strip() if pd.notna(row['State']) else '',\n",
    "            ' ' + str(row['ZIP']).strip()[0:5] if pd.notna(row['ZIP']) and len(str(row['ZIP']).strip()) >= 5  else ''\n",
    "        ]\n",
    "        # remove any empty strings and join all parts\n",
    "        address_parts = [part for part in address_parts if part.strip()]\n",
    "        address = ''.join(address_parts)\n",
    "        \n",
    "        return address\n",
    "    \n",
    "    except Exception as e:\n",
    "        # Log the error and the row for debugging purposes\n",
    "        print(f'Error processing row: {row}. Error: {e}')\n",
    "        print('The dataframe must have the following columns: Address 1, Address 2, City, State, ZIP')\n",
    "        return None\n",
    "    \n",
    "    \n",
    "def create_address_list(df):\n",
    "    required_cols = {'Address 1', 'Address 2', 'City', 'State', 'ZIP'}\n",
    "    if len(df.columns) == 5:\n",
    "        df.columns = required_cols\n",
    "    elif not required_cols.issubset(set(df.columns)):\n",
    "        raise Exception('The dataframe must have the following columns: Address 1, Address 2, City, State, ZIP')\n",
    "    \n",
    "    addresses = df.apply(apply_concatenate_address, axis = 1)\n",
    "    addresses_list = list(set(addresses)) # remove any duplicate addresses and convert to list\n",
    "    addresses_list = [address for address in addresses_list if address.strip()] # remove any empty strings\n",
    "    \n",
    "    if len(addresses_list) == 0:\n",
    "        raise Exception('No addresses were found in the dataframe. Please check the column names and try again.')\n",
    "    \n",
    "    return addresses_list\n"
   ]
  },
  {
   "cell_type": "code",
   "execution_count": 179,
   "metadata": {},
   "outputs": [],
   "source": [
    "def create_address_list(df):\n",
    "    required_cols = {'Address 1', 'Address 2', 'City', 'State', 'ZIP'}\n",
    "    if len(df.columns) == 5:\n",
    "        df.columns = required_cols\n",
    "    elif not required_cols.issubset(set(df.columns)):\n",
    "        raise Exception('The dataframe must have the following columns: Address 1, Address 2, City, State, ZIP')\n",
    "    \n",
    "    addresses = df.apply(apply_concatenate_address, axis = 1)\n",
    "    addresses_list = list(set(addresses)) # remove any duplicate addresses and convert to list\n",
    "    addresses_list = [address for address in addresses_list if address.strip()] # remove any empty strings\n",
    "    \n",
    "    if len(addresses_list) == 0:\n",
    "        raise Exception('No addresses were found in the dataframe. Please check the column names and try again.')\n",
    "    \n",
    "    return addresses_list"
   ]
  },
  {
   "cell_type": "code",
   "execution_count": 180,
   "metadata": {},
   "outputs": [
    {
     "data": {
      "text/html": [
       "<div>\n",
       "<style scoped>\n",
       "    .dataframe tbody tr th:only-of-type {\n",
       "        vertical-align: middle;\n",
       "    }\n",
       "\n",
       "    .dataframe tbody tr th {\n",
       "        vertical-align: top;\n",
       "    }\n",
       "\n",
       "    .dataframe thead th {\n",
       "        text-align: right;\n",
       "    }\n",
       "</style>\n",
       "<table border=\"1\" class=\"dataframe\">\n",
       "  <thead>\n",
       "    <tr style=\"text-align: right;\">\n",
       "      <th></th>\n",
       "      <th>Address</th>\n",
       "      <th>Latitude</th>\n",
       "      <th>Longitude</th>\n",
       "    </tr>\n",
       "  </thead>\n",
       "  <tbody>\n",
       "    <tr>\n",
       "      <th>0</th>\n",
       "      <td>114 Ashley Dr, Manchester, NH 03103</td>\n",
       "      <td>42.952850</td>\n",
       "      <td>-71.417385</td>\n",
       "    </tr>\n",
       "    <tr>\n",
       "      <th>1</th>\n",
       "      <td>600 Westford St, Lowell, MA 01851</td>\n",
       "      <td>42.633689</td>\n",
       "      <td>-71.337486</td>\n",
       "    </tr>\n",
       "    <tr>\n",
       "      <th>2</th>\n",
       "      <td>118 Jennison Rd, Milford, NH 03055</td>\n",
       "      <td>42.856435</td>\n",
       "      <td>-71.673721</td>\n",
       "    </tr>\n",
       "    <tr>\n",
       "      <th>3</th>\n",
       "      <td>3 Holly Ct, Exeter, NH 03833</td>\n",
       "      <td>42.977324</td>\n",
       "      <td>-70.933516</td>\n",
       "    </tr>\n",
       "    <tr>\n",
       "      <th>4</th>\n",
       "      <td>10 Downing St, Laconia, NH 03246</td>\n",
       "      <td>43.534150</td>\n",
       "      <td>-71.483670</td>\n",
       "    </tr>\n",
       "    <tr>\n",
       "      <th>...</th>\n",
       "      <td>...</td>\n",
       "      <td>...</td>\n",
       "      <td>...</td>\n",
       "    </tr>\n",
       "    <tr>\n",
       "      <th>4995</th>\n",
       "      <td>104 Edgewater Rd, Mashpee, MA 02649</td>\n",
       "      <td>41.656960</td>\n",
       "      <td>-70.458504</td>\n",
       "    </tr>\n",
       "    <tr>\n",
       "      <th>4996</th>\n",
       "      <td>66 Robin Hood Rd, Nashua, NH 03062</td>\n",
       "      <td>42.731290</td>\n",
       "      <td>-71.482837</td>\n",
       "    </tr>\n",
       "    <tr>\n",
       "      <th>4997</th>\n",
       "      <td>410 Wareham St, Middleboro, MA 02346</td>\n",
       "      <td>41.851815</td>\n",
       "      <td>-70.854377</td>\n",
       "    </tr>\n",
       "    <tr>\n",
       "      <th>4998</th>\n",
       "      <td>88b Bowers St, Nashua, NH 03060</td>\n",
       "      <td>42.756808</td>\n",
       "      <td>-71.452243</td>\n",
       "    </tr>\n",
       "    <tr>\n",
       "      <th>4999</th>\n",
       "      <td>4903 Erie Rd, Parrish, FL 34219</td>\n",
       "      <td>27.558125</td>\n",
       "      <td>-82.478764</td>\n",
       "    </tr>\n",
       "  </tbody>\n",
       "</table>\n",
       "<p>5000 rows × 3 columns</p>\n",
       "</div>"
      ],
      "text/plain": [
       "                                   Address   Latitude  Longitude\n",
       "0      114 Ashley Dr, Manchester, NH 03103  42.952850 -71.417385\n",
       "1        600 Westford St, Lowell, MA 01851  42.633689 -71.337486\n",
       "2       118 Jennison Rd, Milford, NH 03055  42.856435 -71.673721\n",
       "3             3 Holly Ct, Exeter, NH 03833  42.977324 -70.933516\n",
       "4         10 Downing St, Laconia, NH 03246  43.534150 -71.483670\n",
       "...                                    ...        ...        ...\n",
       "4995   104 Edgewater Rd, Mashpee, MA 02649  41.656960 -70.458504\n",
       "4996    66 Robin Hood Rd, Nashua, NH 03062  42.731290 -71.482837\n",
       "4997  410 Wareham St, Middleboro, MA 02346  41.851815 -70.854377\n",
       "4998       88b Bowers St, Nashua, NH 03060  42.756808 -71.452243\n",
       "4999       4903 Erie Rd, Parrish, FL 34219  27.558125 -82.478764\n",
       "\n",
       "[5000 rows x 3 columns]"
      ]
     },
     "execution_count": 180,
     "metadata": {},
     "output_type": "execute_result"
    }
   ],
   "source": [
    "test_1000_df"
   ]
  },
  {
   "cell_type": "code",
   "execution_count": 178,
   "metadata": {},
   "outputs": [
    {
     "ename": "Exception",
     "evalue": "The dataframe must have 5 columns: Address 1, Address 2, City, State, ZIP",
     "output_type": "error",
     "traceback": [
      "\u001b[0;31m---------------------------------------------------------------------------\u001b[0m",
      "\u001b[0;31mException\u001b[0m                                 Traceback (most recent call last)",
      "Cell \u001b[0;32mIn[178], line 3\u001b[0m\n\u001b[1;32m      1\u001b[0m df \u001b[39m=\u001b[39m pd\u001b[39m.\u001b[39mDataFrame()\n\u001b[0;32m----> 3\u001b[0m create_address_list(df)\n",
      "Cell \u001b[0;32mIn[177], line 4\u001b[0m, in \u001b[0;36mcreate_address_list\u001b[0;34m(df)\u001b[0m\n\u001b[1;32m      2\u001b[0m cols \u001b[39m=\u001b[39m df\u001b[39m.\u001b[39mcolumns\n\u001b[1;32m      3\u001b[0m \u001b[39mif\u001b[39;00m \u001b[39mlen\u001b[39m(cols) \u001b[39m<\u001b[39m \u001b[39m5\u001b[39m:\n\u001b[0;32m----> 4\u001b[0m     \u001b[39mraise\u001b[39;00m \u001b[39mException\u001b[39;00m(\u001b[39m'\u001b[39m\u001b[39mThe dataframe must have 5 columns: Address 1, Address 2, City, State, ZIP\u001b[39m\u001b[39m'\u001b[39m)\n\u001b[1;32m      5\u001b[0m \u001b[39melif\u001b[39;00m \u001b[39mlen\u001b[39m(cols) \u001b[39m==\u001b[39m \u001b[39m5\u001b[39m:\n\u001b[1;32m      6\u001b[0m     df\u001b[39m.\u001b[39mcolumns \u001b[39m=\u001b[39m [\u001b[39m'\u001b[39m\u001b[39mAddress 1\u001b[39m\u001b[39m'\u001b[39m, \u001b[39m'\u001b[39m\u001b[39mAddress 2\u001b[39m\u001b[39m'\u001b[39m, \u001b[39m'\u001b[39m\u001b[39mCity\u001b[39m\u001b[39m'\u001b[39m, \u001b[39m'\u001b[39m\u001b[39mState\u001b[39m\u001b[39m'\u001b[39m, \u001b[39m'\u001b[39m\u001b[39mZIP\u001b[39m\u001b[39m'\u001b[39m]\n",
      "\u001b[0;31mException\u001b[0m: The dataframe must have 5 columns: Address 1, Address 2, City, State, ZIP"
     ]
    }
   ],
   "source": [
    "df = pd.DataFrame()\n",
    "\n",
    "create_address_list(df)"
   ]
  },
  {
   "cell_type": "code",
   "execution_count": 173,
   "metadata": {},
   "outputs": [],
   "source": [
    "address = {\n",
    "    'Address 1': '   123 Main St',\n",
    "    'Address 2': ' Test     ',\n",
    "    \n",
    "    'City': '  New York    ',\n",
    "    'State': '   NY   ',\n",
    "    'ZIP': ' 10    '\n",
    "}"
   ]
  },
  {
   "cell_type": "code",
   "execution_count": 174,
   "metadata": {},
   "outputs": [
    {
     "data": {
      "text/plain": [
       "{'Address 1': '   123 Main St',\n",
       " 'Address 2': ' Test     ',\n",
       " 'City': '  New York    ',\n",
       " 'State': '   NY   ',\n",
       " 'ZIP': ' 10    '}"
      ]
     },
     "execution_count": 174,
     "metadata": {},
     "output_type": "execute_result"
    }
   ],
   "source": [
    "address"
   ]
  },
  {
   "cell_type": "code",
   "execution_count": 175,
   "metadata": {},
   "outputs": [
    {
     "data": {
      "text/plain": [
       "'123 Main St Test, New York, NY'"
      ]
     },
     "execution_count": 175,
     "metadata": {},
     "output_type": "execute_result"
    }
   ],
   "source": [
    "concatenate_address(address)"
   ]
  },
  {
   "cell_type": "code",
   "execution_count": null,
   "metadata": {},
   "outputs": [],
   "source": []
  }
 ],
 "metadata": {
  "kernelspec": {
   "display_name": "base",
   "language": "python",
   "name": "python3"
  },
  "language_info": {
   "codemirror_mode": {
    "name": "ipython",
    "version": 3
   },
   "file_extension": ".py",
   "mimetype": "text/x-python",
   "name": "python",
   "nbconvert_exporter": "python",
   "pygments_lexer": "ipython3",
   "version": "3.9.16"
  },
  "orig_nbformat": 4
 },
 "nbformat": 4,
 "nbformat_minor": 2
}
