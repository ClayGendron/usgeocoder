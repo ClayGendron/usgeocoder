{
 "cells": [
  {
   "cell_type": "code",
   "execution_count": 9,
   "metadata": {},
   "outputs": [],
   "source": [
    "import pandas as pd\n",
    "import requests\n",
    "from datetime import date\n",
    "from time import sleep\n",
    "from pyprojroot import here\n",
    "from concurrent.futures import ThreadPoolExecutor\n",
    "import sys\n",
    "import io\n",
    "import os\n",
    "\n",
    "from utils import create_address_list\n",
    "from census_api import request_address_geocode, request_coordinates_geocode, batch_geocoder\n",
    "from geocoder import Geocoder"
   ]
  },
  {
   "cell_type": "code",
   "execution_count": 11,
   "metadata": {},
   "outputs": [
    {
     "name": "stdout",
     "output_type": "stream",
     "text": [
      "  coordinates value1 value2\n",
      "0  (5.4, 3.5)      A      X\n",
      "1  (3.3, 4.4)      B      Y\n"
     ]
    }
   ],
   "source": [
    "import pandas as pd\n",
    "\n",
    "# Sample data with tuples for df1\n",
    "data1 = {\n",
    "    'coordinates': [(5.4, 3.5), (3.3, 4.4), (6.7, 5.5)],\n",
    "    'value1': ['A', 'B', 'C']\n",
    "}\n",
    "df1 = pd.DataFrame(data1)\n",
    "\n",
    "# Sample data with tuples for df2\n",
    "data2 = {\n",
    "    'coordinates': [(5.4, 3.5), (3.3, 4.4), (7.8, 8.9)],\n",
    "    'value2': ['X', 'Y', 'Z']\n",
    "}\n",
    "df2 = pd.DataFrame(data2)\n",
    "\n",
    "# Merge dataframes based on 'coordinates'\n",
    "merged_df = pd.merge(df1, df2, on='coordinates', how='inner')\n",
    "print(merged_df)\n"
   ]
  },
  {
   "cell_type": "code",
   "execution_count": 10,
   "metadata": {},
   "outputs": [
    {
     "data": {
      "text/plain": [
       "['notebook.ipynb',\n",
       " '__init__.py',\n",
       " '__pycache__',\n",
       " 'geocoder.py',\n",
       " 'utils.py',\n",
       " 'census_api.py']"
      ]
     },
     "execution_count": 10,
     "metadata": {},
     "output_type": "execute_result"
    }
   ],
   "source": [
    "os.listdir()"
   ]
  },
  {
   "cell_type": "code",
   "execution_count": 20,
   "metadata": {},
   "outputs": [
    {
     "data": {
      "text/plain": [
       "['test', '1', '2', '3']"
      ]
     },
     "execution_count": 20,
     "metadata": {},
     "output_type": "execute_result"
    }
   ],
   "source": [
    "addresses_list = ['test', '1', '2', '', '3']\n",
    "addresses_list = [address for address in addresses_list if address]\n",
    "addresses_list"
   ]
  },
  {
   "cell_type": "code",
   "execution_count": null,
   "metadata": {},
   "outputs": [],
   "source": [
    "[(,), (5, 5)]"
   ]
  },
  {
   "cell_type": "code",
   "execution_count": 37,
   "metadata": {},
   "outputs": [],
   "source": [
    "def apply_concatenate_coordinates(row):\n",
    "    try:\n",
    "        # strip any whitespace and convert to decimal number\n",
    "        coordinates = (float(str(row['Latitude']).strip()), float(str(row['Longitude']).strip()))\n",
    "        return coordinates\n",
    "    \n",
    "    except Exception as e:\n",
    "        # Log the error and the row for debugging purposes\n",
    "        print(f'Error processing row: {row}. Error: {e}')\n",
    "        return None\n",
    "\n",
    "def create_coordinates_list(df):\n",
    "    coordinate_parts_cols = ['Latitude', 'Longitude']\n",
    "    coordinates_col = ['Coordinates']\n",
    "    \n",
    "    if len(df.columns) == 2:\n",
    "        df.columns = coordinate_parts_cols\n",
    "        df.dropna(subset=['Latitude', 'Longitude'], how='any', inplace=True)\n",
    "        coordinates = df.apply(apply_concatenate_coordinates, axis = 1)\n",
    "        \n",
    "    elif not set(coordinate_parts_cols).issubset(set(df.columns)) and not set(coordinates_col).issubset(set(df.columns)):\n",
    "        raise Exception('The dataframe must have the following columns: [Latitude, Longitude] or [Coordinates]')\n",
    "    \n",
    "    elif set(coordinates_col).issubset(set(df.columns)):\n",
    "        df.dropna(subset=['Coordinates'], how='any', inplace=True)\n",
    "        coordinates = df['Coordinates']\n",
    "        \n",
    "    elif set(coordinate_parts_cols).issubset(set(df.columns)):\n",
    "        df.dropna(subset=['Latitude', 'Longitude'], how='any', inplace=True)\n",
    "        coordinates = df.apply(apply_concatenate_coordinates, axis = 1)\n",
    "        \n",
    "    coordinates_list = coordinates.drop_duplicates().tolist()\n",
    "    \n",
    "    if len(coordinates_list) == 0:\n",
    "        raise Exception('No coordinates were found in the dataframe. Please check the column names and try again.')\n",
    "    \n",
    "    return coordinates_list\n",
    "\n",
    "test = pd.DataFrame({\n",
    "    'Latitude': ['1.1', 2, 3, None, 5],\n",
    "    'Longitude': [1, '   2', 3, None, 5],\n",
    "})\n",
    "\n"
   ]
  },
  {
   "cell_type": "code",
   "execution_count": 12,
   "metadata": {},
   "outputs": [],
   "source": [
    "test = request_address_geocode('156 Front St, Exeter, NH 03833')\n"
   ]
  },
  {
   "cell_type": "code",
   "execution_count": 15,
   "metadata": {},
   "outputs": [
    {
     "data": {
      "text/plain": [
       "'Latitude'"
      ]
     },
     "execution_count": 15,
     "metadata": {},
     "output_type": "execute_result"
    }
   ],
   "source": [
    "next(reversed(test.keys()))"
   ]
  },
  {
   "cell_type": "code",
   "execution_count": 16,
   "metadata": {},
   "outputs": [
    {
     "data": {
      "text/plain": [
       "42.97886968860952"
      ]
     },
     "execution_count": 16,
     "metadata": {},
     "output_type": "execute_result"
    }
   ],
   "source": [
    "test[next(reversed(test.keys()))]"
   ]
  },
  {
   "cell_type": "code",
   "execution_count": 31,
   "metadata": {},
   "outputs": [],
   "source": [
    "test = pd.DataFrame({\n",
    "    'Latitude': ['1.011', 2, 3, None, 5],\n",
    "    'Longitude': [1, '2', 3, None, 5],\n",
    "})\n",
    "\n"
   ]
  },
  {
   "cell_type": "code",
   "execution_count": 32,
   "metadata": {},
   "outputs": [],
   "source": [
    "test['Coordinates'] = test.apply(apply_concatenate_coordinates, axis=1)"
   ]
  },
  {
   "cell_type": "code",
   "execution_count": 33,
   "metadata": {},
   "outputs": [
    {
     "data": {
      "text/plain": [
       "0    (1.011, 1.0)\n",
       "1      (2.0, 2.0)\n",
       "2      (3.0, 3.0)\n",
       "4      (5.0, 5.0)\n",
       "Name: Coordinates, dtype: object"
      ]
     },
     "execution_count": 33,
     "metadata": {},
     "output_type": "execute_result"
    }
   ],
   "source": [
    "test['Coordinates']"
   ]
  },
  {
   "cell_type": "code",
   "execution_count": 19,
   "metadata": {},
   "outputs": [
    {
     "data": {
      "text/plain": [
       "[(1.0, 1.0), (2.0, 2.0), (3.0, 3.0), (nan, nan), (5.0, 5.0)]"
      ]
     },
     "execution_count": 19,
     "metadata": {},
     "output_type": "execute_result"
    }
   ],
   "source": [
    "# "
   ]
  },
  {
   "cell_type": "code",
   "execution_count": 6,
   "metadata": {},
   "outputs": [
    {
     "name": "stdout",
     "output_type": "stream",
     "text": [
      "Hello World\n"
     ]
    }
   ],
   "source": [
    "print_out = sys.stdout\n",
    "sys.stdout = io.StringIO()\n",
    "print('Hello World')\n",
    "\n",
    "# restore stdout\n",
    "sys.stdout = print_out\n",
    "print('Hello World')"
   ]
  },
  {
   "cell_type": "code",
   "execution_count": 9,
   "metadata": {},
   "outputs": [
    {
     "name": "stdout",
     "output_type": "stream",
     "text": [
      "Address fjikdospafjsdop did not match any records.\n"
     ]
    }
   ],
   "source": [
    "request_address_geocode('fjikdospafjsdop')"
   ]
  },
  {
   "cell_type": "code",
   "execution_count": 8,
   "metadata": {},
   "outputs": [
    {
     "data": {
      "text/html": [
       "<div>\n",
       "<style scoped>\n",
       "    .dataframe tbody tr th:only-of-type {\n",
       "        vertical-align: middle;\n",
       "    }\n",
       "\n",
       "    .dataframe tbody tr th {\n",
       "        vertical-align: top;\n",
       "    }\n",
       "\n",
       "    .dataframe thead th {\n",
       "        text-align: right;\n",
       "    }\n",
       "</style>\n",
       "<table border=\"1\" class=\"dataframe\">\n",
       "  <thead>\n",
       "    <tr style=\"text-align: right;\">\n",
       "      <th></th>\n",
       "      <th>Address</th>\n",
       "      <th>Date</th>\n",
       "      <th>Latitude</th>\n",
       "      <th>Longitude</th>\n",
       "    </tr>\n",
       "  </thead>\n",
       "  <tbody>\n",
       "    <tr>\n",
       "      <th>0</th>\n",
       "      <td>156 Front St, Exeter, NH 03833</td>\n",
       "      <td>2023-08-15</td>\n",
       "      <td>42.97887</td>\n",
       "      <td>-70.96139</td>\n",
       "    </tr>\n",
       "  </tbody>\n",
       "</table>\n",
       "</div>"
      ],
      "text/plain": [
       "                          Address        Date  Latitude  Longitude\n",
       "0  156 Front St, Exeter, NH 03833  2023-08-15  42.97887  -70.96139"
      ]
     },
     "execution_count": 8,
     "metadata": {},
     "output_type": "execute_result"
    }
   ],
   "source": [
    "d"
   ]
  }
 ],
 "metadata": {
  "kernelspec": {
   "display_name": "base",
   "language": "python",
   "name": "python3"
  },
  "language_info": {
   "codemirror_mode": {
    "name": "ipython",
    "version": 3
   },
   "file_extension": ".py",
   "mimetype": "text/x-python",
   "name": "python",
   "nbconvert_exporter": "python",
   "pygments_lexer": "ipython3",
   "version": "3.9.16"
  },
  "orig_nbformat": 4
 },
 "nbformat": 4,
 "nbformat_minor": 2
}
